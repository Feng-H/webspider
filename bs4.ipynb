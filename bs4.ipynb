{
 "cells": [
  {
   "cell_type": "code",
   "execution_count": null,
   "metadata": {},
   "outputs": [],
   "source": [
    "import requests\n",
    "import pandas as pd\n",
    "from bs4 import BeautifulSoup\n",
    "import lxml\n",
    "import time\n",
    "## 获取书名和章节\n",
    "bookname_chapter = []\n",
    "b = {'Genesis':50,'Exodus':40,'Leviticus':27,'Numbers':36,'Deuteronomy':34,'Joshua':24,'Judges':21,'Ruth':4,'1%20Samuel':31,'2%20Samuel':24,'1%20Kings':22,'2%20Kings':25,'1%20Chronicles':29,'2%20Chronicles':36,'Ezra':10,'Nehemiah':13,'Esther':10,'Job':42,'Psalm':150,'Proverbs':31,'Ecclesiastes':12,'/Song%20of%20Solomon':8,'Isaiah':66,'Jeremiah':52,'Lamentations':5,'Ezekiel':48,'Daniel':12,'Hosea':14,'Joel':4,'Amos':9,'Obadiah':1,'Jonah':4,'Micah':7,'Nahum':3,'Habbakuk':3,'Zephaniah':3,'Haggai':2,'Zechariah':14,'Malachi':4,'Matthew':28,'Mark':16,'Luke':24,'John':21,'Acts':28,'Romans':16,'1%20Corinthians':16,'2%20Corinthians':13,'Galatians':6,'Ephesians':6,'Philippians':4,'Colossians':4,'1%20Thessalonians':5,'2%20Thessalonians':3,'1%20Timothy':6,'2%20Timothy':4,'Titus':3,'Philemon':1,'Hebrews':13,'James':5,'1%20Peter':5,'2%20Peter':3,'1%20John':5,'2%20John':1,'3%20John':1,'Jude':1,'Revelation':22}\n",
    "for key in b:\n",
    "    for Chapter in range(b[key]):\n",
    "        t = (key+str(Chapter+1))\n",
    "        bookname_chapter.append(t)\n",
    "\n",
    "##将每本书和章节和url 链接，并且获取数据\n",
    "for eachBook in bookname_chapter:\n",
    "    url = \"https://www.bibleserver.com/NIV.CUVS.ELB/\" + eachBook\n",
    "    gen = requests.get(url)\n",
    "    soup = BeautifulSoup(gen.text,'lxml')\n",
    "    res = soup.find_all([\"span\",\"sapn\"],[\"verse-number__group\",\"verse-content--hover\"])\n",
    "    for x in res:\n",
    "        print(Chapter +\":\" + x.text)\n",
    "    time.sleep(5)"
   ]
  },
  {
   "cell_type": "code",
   "execution_count": 2,
   "metadata": {},
   "outputs": [
    {
     "ename": "SyntaxError",
     "evalue": "invalid syntax (4069845084.py, line 6)",
     "output_type": "error",
     "traceback": [
      "\u001b[0;36m  File \u001b[0;32m\"/tmp/ipykernel_1562/4069845084.py\"\u001b[0;36m, line \u001b[0;32m6\u001b[0m\n\u001b[0;31m    bookname_chapter\u001b[0m\n\u001b[0m    ^\u001b[0m\n\u001b[0;31mSyntaxError\u001b[0m\u001b[0;31m:\u001b[0m invalid syntax\n"
     ]
    }
   ],
   "source": [
    "import requests\n",
    "import pandas as pd\n",
    "from bs4 import BeautifulSoup\n",
    "import lxml\n",
    "import time\n",
    "import re\n",
    "import unicodedata as ucd\n",
    "## 获取书名和章节\n",
    "bookname_chapter = []\n",
    "b = {'Genesis':50,'Exodus':40,'Leviticus':27,'Numbers':36,'Deuteronomy':34,'Joshua':24,'Judges':21,'Ruth':4,'1%20Samuel':31,'2%20Samuel':24,'1%20Kings':22,'2%20Kings':25,'1%20Chronicles':29,'2%20Chronicles':36,'Ezra':10,'Nehemiah':13,'Esther':10,'Job':42,'Psalm':150,'Proverbs':31,'Ecclesiastes':12,'/Song%20of%20Solomon':8,'Isaiah':66,'Jeremiah':52,'Lamentations':5,'Ezekiel':48,'Daniel':12,'Hosea':14,'Joel':4,'Amos':9,'Obadiah':1,'Jonah':4,'Micah':7,'Nahum':3,'Habbakuk':3,'Zephaniah':3,'Haggai':2,'Zechariah':14,'Malachi':4,'Matthew':28,'Mark':16,'Luke':24,'John':21,'Acts':28,'Romans':16,'1%20Corinthians':16,'2%20Corinthians':13,'Galatians':6,'Ephesians':6,'Philippians':4,'Colossians':4,'1%20Thessalonians':5,'2%20Thessalonians':3,'1%20Timothy':6,'2%20Timothy':4,'Titus':3,'Philemon':1,'Hebrews':13,'James':5,'1%20Peter':5,'2%20Peter':3,'1%20John':5,'2%20John':1,'3%20John':1,'Jude':1,'Revelation':22}\n",
    "for key in b:\n",
    "    for Chapter in range(b[key]):\n",
    "        t = (key+str(Chapter+1))\n",
    "        bookname_chapter.append(t)\n",
    "\n",
    "##将每本书和章节和url 链接，并且获取数据\n",
    "\n",
    "# 初始化\n",
    "Quanbu = {}\n",
    "\n",
    "for eachBook in bookname_chapter:\n",
    "    yibenshu = {}\n",
    "    Bianhao = []\n",
    "    Wenben = []\n",
    "    url = \"https://www.bibleserver.com/NIV.ELB.CUVS/\" + eachBook\n",
    "    gen = requests.get(url)\n",
    "    soup = BeautifulSoup(gen.text,'lxml')\n",
    "    # 获取编号 Bianhao\n",
    "    res = soup.find_all([\"span\"],[\"verse-number__group\"])\n",
    "    for x in res:\n",
    "        n = eachBook + \":\" + str(x.text)\n",
    "        Bianhao.append(n)\n",
    "    # 获取内容 Wenben\n",
    "    tes = soup.find_all([\"span\"],[\"verse-content--hover\"])\n",
    "    for y in tes:\n",
    "        m = y.text\n",
    "        # 英语和德语时要加入角标匹配去除\n",
    "        m = re.sub('\\[\\d+\\]', '', m)\n",
    "        # 中文需要加入以下去空格的语句,第一句是替换空格，第二句是特殊空格\\u3000替换为一般空格\n",
    "        # m = m.replace(' ','')\n",
    "        # m = ucd.normalize('NFKC', m)\n",
    "        Wenben.append(m)\n",
    "    # 组合成一本书 yibenshu, 因为是dict类型，在合并的时候发现同样的key，只是去了最后一个。\n",
    "    yibenshu = dict(zip(Bianhao,Wenben))\n",
    "    # 加入全部里面 Quanbu\n",
    "    Quanbu.update(yibenshu)\n",
    "    time.sleep(2)\n",
    "\n",
    "# 打开text文档\n",
    "file = open('bibel.txt','w')\n",
    "#获取Dict里面的key 和 value，写入text\n",
    "for k,v in Quanbu.items():\n",
    "    file.write(str(k)+' '+str(v)+'\\n')\n",
    "file.close()"
   ]
  },
  {
   "cell_type": "markdown",
   "metadata": {},
   "source": [
    "dic_Gen = ['创世记1','创世记2','创世记3','创世记4','创世记5','创世记6','创世记7','创世记8','创世记9','创世记10']"
   ]
  }
 ],
 "metadata": {
  "interpreter": {
   "hash": "701b5eec3226de09426a3936f53f22af599a7a471669c8ffec2b4aa6767f5490"
  },
  "kernelspec": {
   "display_name": "Python 3.8.12 64-bit ('vscode': conda)",
   "language": "python",
   "name": "python3"
  },
  "language_info": {
   "codemirror_mode": {
    "name": "ipython",
    "version": 3
   },
   "file_extension": ".py",
   "mimetype": "text/x-python",
   "name": "python",
   "nbconvert_exporter": "python",
   "pygments_lexer": "ipython3",
   "version": "3.8.12"
  },
  "orig_nbformat": 4
 },
 "nbformat": 4,
 "nbformat_minor": 2
}
