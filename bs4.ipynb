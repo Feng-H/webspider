{
 "cells": [
  {
   "cell_type": "code",
   "execution_count": null,
   "metadata": {},
   "outputs": [],
   "source": [
    "import requests\n",
    "import pandas as pd\n",
    "from bs4 import BeautifulSoup\n",
    "import lxml\n",
    "import time\n",
    "dic_Gen = ['创世记1','创世记2','创世记3','创世记4','创世记5','创世记6','创世记7','创世记8','创世记9','创世记10']\n",
    "for Chapter in dic_Gen:\n",
    "    url = \"https://www.bibleserver.com/CUVS.ELB.ESV.KJV/\" + Chapter\n",
    "    gen = requests.get(url)\n",
    "    soup = BeautifulSoup(gen.text,'lxml')\n",
    "    res = soup.find_all([\"span\",\"sapn\"],[\"verse-number__group\",\"verse-content--hover\"])\n",
    "    for x in res:\n",
    "        print(Chapter +\":\" + x.text)\n",
    "    time.sleep(10)"
   ]
  },
  {
   "cell_type": "code",
   "execution_count": null,
   "metadata": {},
   "outputs": [],
   "source": []
  },
  {
   "cell_type": "markdown",
   "metadata": {},
   "source": [
    "dic_Gen = ['创世记1','创世记2','创世记3','创世记4','创世记5','创世记6','创世记7','创世记8','创世记9','创世记10']"
   ]
  }
 ],
 "metadata": {
  "language_info": {
   "name": "python"
  },
  "orig_nbformat": 4
 },
 "nbformat": 4,
 "nbformat_minor": 2
}
