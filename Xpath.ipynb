{
 "cells": [
  {
   "cell_type": "code",
   "execution_count": null,
   "metadata": {},
   "outputs": [],
   "source": [
    "import requests\n",
    "import lxml\n",
    "import re\n",
    "from lxml import tree\n"
   ]
  }
 ],
 "metadata": {
  "interpreter": {
   "hash": "701b5eec3226de09426a3936f53f22af599a7a471669c8ffec2b4aa6767f5490"
  },
  "kernelspec": {
   "display_name": "Python 3.8.12 64-bit ('vscode': conda)",
   "language": "python",
   "name": "python3"
  },
  "language_info": {
   "name": "python",
   "version": "3.8.12"
  },
  "orig_nbformat": 4
 },
 "nbformat": 4,
 "nbformat_minor": 2
}
