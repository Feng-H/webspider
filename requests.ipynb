{
 "cells": [
  {
   "cell_type": "code",
   "execution_count": 1,
   "metadata": {},
   "outputs": [
    {
     "name": "stdout",
     "output_type": "stream",
     "text": [
      "<class 'requests.models.Response'>\n"
     ]
    }
   ],
   "source": [
    "import requests\n",
    "\n",
    "r = requests.get('https://www.baidu.com')\n",
    "print(type(r))\n"
   ]
  },
  {
   "cell_type": "code",
   "execution_count": 2,
   "metadata": {},
   "outputs": [
    {
     "name": "stdout",
     "output_type": "stream",
     "text": [
      "<Response [200]>\n"
     ]
    }
   ],
   "source": [
    "import requests\n",
    "import re\n",
    "r = requests.get('https://ssr1.scrape.center/')\n",
    "print(r)"
   ]
  },
  {
   "cell_type": "code",
   "execution_count": 6,
   "metadata": {},
   "outputs": [],
   "source": [
    "pattern = re.compile('<h2.*?>(.*?)</h2>', re.S)\n",
    "title = re.findall(pattern, r.text)\n",
    "\n",
    "# 匹配P2标题"
   ]
  },
  {
   "cell_type": "code",
   "execution_count": 7,
   "metadata": {},
   "outputs": [
    {
     "data": {
      "text/plain": [
       "['霸王别姬 - Farewell My Concubine',\n",
       " '这个杀手不太冷 - Léon',\n",
       " '肖申克的救赎 - The Shawshank Redemption',\n",
       " '泰坦尼克号 - Titanic',\n",
       " '罗马假日 - Roman Holiday',\n",
       " '唐伯虎点秋香 - Flirting Scholar',\n",
       " '乱世佳人 - Gone with the Wind',\n",
       " '喜剧之王 - The King of Comedy',\n",
       " '楚门的世界 - The Truman Show',\n",
       " '狮子王 - The Lion King']"
      ]
     },
     "execution_count": 7,
     "metadata": {},
     "output_type": "execute_result"
    }
   ],
   "source": [
    "title"
   ]
  },
  {
   "cell_type": "code",
   "execution_count": null,
   "metadata": {},
   "outputs": [],
   "source": []
  }
 ],
 "metadata": {
  "interpreter": {
   "hash": "701b5eec3226de09426a3936f53f22af599a7a471669c8ffec2b4aa6767f5490"
  },
  "kernelspec": {
   "display_name": "Python 3.8.12 64-bit ('vscode': conda)",
   "language": "python",
   "name": "python3"
  },
  "language_info": {
   "codemirror_mode": {
    "name": "ipython",
    "version": 3
   },
   "file_extension": ".py",
   "mimetype": "text/x-python",
   "name": "python",
   "nbconvert_exporter": "python",
   "pygments_lexer": "ipython3",
   "version": "3.8.12"
  },
  "orig_nbformat": 4
 },
 "nbformat": 4,
 "nbformat_minor": 2
}
